{
 "cells": [
  {
   "cell_type": "markdown",
   "id": "658b7d9d",
   "metadata": {},
   "source": [
    "Task 1: write a function that takes as input several other functions and a list of values to which these functions will be applied"
   ]
  },
  {
   "cell_type": "code",
   "execution_count": 27,
   "id": "08420fd8",
   "metadata": {},
   "outputs": [
    {
     "data": {
      "text/plain": [
       "[1, 8, 27, 64, 125]"
      ]
     },
     "execution_count": 27,
     "metadata": {},
     "output_type": "execute_result"
    }
   ],
   "source": [
    "def sequential_map(*args1):\n",
    "    *functions, container = args1\n",
    "    \n",
    "    for fun in functions:\n",
    "        result = map(fun, container)\n",
    "        \n",
    "    return list(result)"
   ]
  },
  {
   "cell_type": "markdown",
   "id": "e12ec767",
   "metadata": {},
   "source": [
    "Task 2: write a function that takes as input several other logical functions and a list of values to which these functions will be applied. The function returns values that have always been \"True\"."
   ]
  },
  {
   "cell_type": "code",
   "execution_count": 203,
   "id": "ca568bc3",
   "metadata": {},
   "outputs": [
    {
     "data": {
      "text/plain": [
       "[6]"
      ]
     },
     "execution_count": 203,
     "metadata": {},
     "output_type": "execute_result"
    }
   ],
   "source": [
    "def consensus_filter(*args2):\n",
    "    *log_functions, container = args2\n",
    "    \n",
    "    for fun in log_functions:\n",
    "        container = filter(fun, container)\n",
    "\n",
    "    return list(container)"
   ]
  },
  {
   "cell_type": "markdown",
   "id": "e3a0d984",
   "metadata": {},
   "source": [
    "Task 3: write a function that takes as input two other functions and a list of values. If the value passes the first function with 'True', it is fed to the second function. "
   ]
  },
  {
   "cell_type": "code",
   "execution_count": 123,
   "id": "2470aef0",
   "metadata": {},
   "outputs": [
    {
     "data": {
      "text/plain": [
       "4"
      ]
     },
     "execution_count": 123,
     "metadata": {},
     "output_type": "execute_result"
    }
   ],
   "source": [
    "def conditional_reduce(f1, f2, container):\n",
    "    \n",
    "    container = list(filter(f1, container))\n",
    "    result = f2(container[0], container[1])\n",
    "\n",
    "    return result  "
   ]
  },
  {
   "cell_type": "markdown",
   "id": "ba1adaa2",
   "metadata": {},
   "source": [
    "Task 4: write a function that takes as input several other functions. The function must return a function combining all passed functions with consecutive execution."
   ]
  },
  {
   "cell_type": "code",
   "execution_count": 166,
   "id": "d7787c0b",
   "metadata": {},
   "outputs": [
    {
     "data": {
      "text/plain": [
       "(9.75, 9)"
      ]
     },
     "execution_count": 166,
     "metadata": {},
     "output_type": "execute_result"
    }
   ],
   "source": [
    "def func_chain(*args4):\n",
    "    \n",
    "    def my_chain(x):\n",
    "        for fun in args4:\n",
    "            x = fun(x)\n",
    "        return x\n",
    "    \n",
    "    return my_chain"
   ]
  },
  {
   "cell_type": "markdown",
   "id": "98f18fdc",
   "metadata": {},
   "source": [
    "Task 5: write a function that takes as input several other functions and  and is analogue to the multiple_partial function."
   ]
  },
  {
   "cell_type": "code",
   "execution_count": 201,
   "id": "300544ac",
   "metadata": {},
   "outputs": [],
   "source": [
    "def multiple_partial(*args, **kwargs):\n",
    "    result = [lambda x: fun(*x, **kwargs) for fun in args]\n",
    "    return result"
   ]
  }
 ],
 "metadata": {
  "kernelspec": {
   "display_name": "Python 3 (ipykernel)",
   "language": "python",
   "name": "python3"
  },
  "language_info": {
   "codemirror_mode": {
    "name": "ipython",
    "version": 3
   },
   "file_extension": ".py",
   "mimetype": "text/x-python",
   "name": "python",
   "nbconvert_exporter": "python",
   "pygments_lexer": "ipython3",
   "version": "3.9.13"
  }
 },
 "nbformat": 4,
 "nbformat_minor": 5
}
