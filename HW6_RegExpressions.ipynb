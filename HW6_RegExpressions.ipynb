{
 "cells": [
  {
   "cell_type": "code",
   "execution_count": 1,
   "id": "307d8825",
   "metadata": {},
   "outputs": [],
   "source": [
    "import re\n",
    "import matplotlib.pyplot as plt\n",
    "import seaborn as sns"
   ]
  },
  {
   "cell_type": "markdown",
   "id": "74323ad4",
   "metadata": {},
   "source": [
    "1. Parse the file using regular expressions and write all ftp links from there into the ftps file"
   ]
  },
  {
   "cell_type": "code",
   "execution_count": 3,
   "id": "aef9153a",
   "metadata": {},
   "outputs": [
    {
     "name": "stdout",
     "output_type": "stream",
     "text": [
      "--2022-12-11 03:19:39--  https://raw.githubusercontent.com/Serfentum/bf_course/master/15.re/references\n",
      "Распознаётся raw.githubusercontent.com (raw.githubusercontent.com)… 185.199.110.133, 185.199.111.133, 185.199.108.133, ...\n",
      "Подключение к raw.githubusercontent.com (raw.githubusercontent.com)|185.199.110.133|:443... соединение установлено.\n",
      "HTTP-запрос отправлен. Ожидание ответа… 200 OK\n",
      "Длина: 1206044 (1,1M) [text/plain]\n",
      "Сохранение в: «references»\n",
      "\n",
      "references          100%[===================>]   1,15M  1,48MB/s    за 0,8s    \n",
      "\n",
      "2022-12-11 03:19:41 (1,48 MB/s) - «references» сохранён [1206044/1206044]\n",
      "\n"
     ]
    }
   ],
   "source": [
    "!wget https://raw.githubusercontent.com/Serfentum/bf_course/master/15.re/references"
   ]
  },
  {
   "cell_type": "code",
   "execution_count": 2,
   "id": "9254a4ae",
   "metadata": {
    "scrolled": false
   },
   "outputs": [],
   "source": [
    "with open('../HW6_RegExpression/references') as references:\n",
    "    total = references.read()\n",
    "    regexp1 = re.compile('ftp\\.[./#\\w]*')\n",
    "    ftp = regexp1.findall(total)\n",
    "    with open('../HW6_RegExpression/ftps', 'w') as ftps:\n",
    "        print(ftp, file=ftps, sep = '\\n')"
   ]
  },
  {
   "cell_type": "markdown",
   "id": "eaeccce6",
   "metadata": {},
   "source": [
    "2. Extract all the numbers from the story 2430 A.D."
   ]
  },
  {
   "cell_type": "code",
   "execution_count": 10,
   "id": "8485edae",
   "metadata": {},
   "outputs": [
    {
     "name": "stdout",
     "output_type": "stream",
     "text": [
      "--2022-12-11 03:25:17--  https://raw.githubusercontent.com/Serfentum/bf_course/master/15.re/2430AD\n",
      "Распознаётся raw.githubusercontent.com (raw.githubusercontent.com)… 185.199.111.133, 185.199.109.133, 185.199.108.133, ...\n",
      "Подключение к raw.githubusercontent.com (raw.githubusercontent.com)|185.199.111.133|:443... соединение установлено.\n",
      "HTTP-запрос отправлен. Ожидание ответа… 200 OK\n",
      "Длина: 16759 (16K) [text/plain]\n",
      "Сохранение в: «2430AD»\n",
      "\n",
      "2430AD              100%[===================>]  16,37K  --.-KB/s    за 0s      \n",
      "\n",
      "2022-12-11 03:25:17 (38,8 MB/s) - «2430AD» сохранён [16759/16759]\n",
      "\n"
     ]
    }
   ],
   "source": [
    "!wget https://raw.githubusercontent.com/Serfentum/bf_course/master/15.re/2430AD"
   ]
  },
  {
   "cell_type": "code",
   "execution_count": 3,
   "id": "cca119a6",
   "metadata": {},
   "outputs": [
    {
     "name": "stdout",
     "output_type": "stream",
     "text": [
      "['2430', '1969', '2430', '2430', '57', '57', '1970', '3.68', '35', '460', '2430']\n",
      "{'460', '35', '57', '3.68', '2430', '1970', '1969'}\n"
     ]
    }
   ],
   "source": [
    "with open('../HW6_RegExpression/2430AD') as story:\n",
    "    total = story.read()\n",
    "    regexp2 = re.compile('\\d{1,}\\S\\d{1,}|\\d{1,}')\n",
    "    print(regexp2.findall(total))\n",
    "    #now I get unique numbers:\n",
    "    print(set(regexp2.findall(total)))\n"
   ]
  },
  {
   "cell_type": "markdown",
   "id": "a8db9ce6",
   "metadata": {},
   "source": [
    "3. Extract all the words that have the letter 'a' or 'A' in them "
   ]
  },
  {
   "cell_type": "code",
   "execution_count": 4,
   "id": "ea6027e1",
   "metadata": {},
   "outputs": [
    {
     "name": "stdout",
     "output_type": "stream",
     "text": [
      "['A', 'and', 'awn', 'and', 'all', 'ache', 'ave', 'a', 'are', 'a', 'are', 'all', 'and', 'a', 'am', 'anywhere', 'an', 'al', 'a', 'ality', 'acked', 'alk', 'aid', 'Alvarez', 'aid', 'al', 'ally', 'An', 'aracter', 'aped', 'adjustment', 'alking', 'ates', 'ast', 'act', 'along', 'ail', 'as', 'as', 'always', 'arsely', 'ave', 'aken', 'and', 'Alvarez', 'alking', 'Alvarez', 'as', 'all', 'and', 'ather', 'athletic', 'a', 'ar', 'activities', 'airs', 'and', 'ampways', 'ance', 'almost', 'an', 'aracter', 'and', 'avoided', 'amps', 'and', 'as', 'ale', 'aid', 'ant', 'an', 'ave', 'are', 'ace', 'and', 'as', 'apartment', 'ather', 'a', 'a', 'ay', 'aid', 'Alvarez', 'And', 'a', 'Alvarez', 'added', 'atter', 'ach', 'ak', 'ach', 'ach', 'al', 'All', 'ankind', 'And', 'aid', 'at', 'at', 'ay', 'at', 'against', 'astic', 'assed', 'and', 'aw', 'ance', 'as', 'a', 'ankton', 'arieties', 'almost', 'at', 'above', 'ar', 'above', 'as', 'ant', 'ading', 'a', 'And', 'another', 'as', 'arge', 'ar', 'ading', 'a', 'ation', 'as', 'a', 'ack', 'at', 'ands', 'ad', 'assed', 'as', 'about', 'an', 'angible', 'and', 'ace', 'all', 'as', 'ank', 'And', 'as', 'air', 'aid', 'Alvarez', 'an', 'ally', 'aid', 'at', 'asy', 'aled', 'aited', 'all', 'around', 'arded', 'anner', 'as', 'always', 'anwitz', 'as', 'aiting', 'ame', 'all', 'ay', 'air', 'and', 'asily', 'ay', 'asked', 'Alvarez', 'anwitz', 'as', 'anwitz', 'and', 'at', 'anwitz', 'ained', 'anding', 'and', 'aid', 'Alvarez', 'aid', 'ask', 'apacity', 'as', 'ative', 'as', 'ative', 'are', 'ady', 'al', 'anwitz', 'ally', 'as', 'and', 'ad', 'ar', 'at', 'ant', 'aid', 'ave', 'a', 'act', 'anding', 'amily', 'as', 'always', 'ad', 'all', 'and', 'aid', 'ably', 'asking', 'accede', 'arily', 'Alvarez', 'and', 'ation', 'at', 'as', 'ather', 'ally', 'at', 'as', 'ast', 'ar', 'anwitz', 'aw', 'at', 'ate', 'as', 'ar', 'amount', 'and', 'as', 'anged', 'at', 'ar', 'ar', 'ar', 'arry', 'Alvarez', 'as', 'ar', 'as', 'and', 'aid', 'ar', 'ached', 'al', 'ate', 'actly', 'atches', 'ath', 'ate', 'ation', 'actly', 'ady', 'acement', 'and', 'a', 'arms', 'are', 'a', 'ady', 'ate', 'and', 'all', 'ankind', 'and', 'ause', 'a', 'ause', 'a', 'And', 'atures', 'a', 'abbits', 'and', 'ards', 'aven', 'aken', 'a', 'all', 'at', 'arm', 'at', 'anded', 'anwitz', 'aid', 'at', 'as', 'a', 'Alvarez', 'ad', 'ard', 'at', 'aid', 'as', 'athy', 'as', 'and', 'a', 'ain', 'amount', 'al', 'athy', 'as', 'a', 'ago', 'ast', 'are', 'And', 'ars', 'at', 'aurs', 'ave', 'an', 'ant', 'an', 'are', 'al', 'asked', 'anwitz', 'as', 'arger', 'aid', 'anwitz', 'ar', 'ar', 'ad', 'any', 'All', 'arge', 'animals', 'All', 'arnivores', 'all', 'ants', 'atures', 'Alvarez', 'aid', 'at', 'ants', 'ankind', 'against', 'al', 'ade', 'against', 'al', 'ance', 'ant', 'ally', 'are', 'at', 'Alvarez', 'as', 'ating', 'anwitz', 'at', 'A', 'ain', 'ay', 'ach', 'ankind', 'ant', 'animals', 'ant', 'art', 'a', 'ariety', 'aded', 'are', 'aid', 'at', 'are', 'ached', 'aid', 'anwitz', 'and', 'ablished', 'a', 'and', 'abandoned', 'all', 'ar', 'apable', 'an', 'anwitz', 'aid', 'are', 'ars', 'arthlike', 'Alvarez', 'ad', 'ach', 'ave', 'ally', 'arth', 'and', 'an', 'ave', 'ade', 'and', 'arth', 'argin', 'a', 'arship', 'apable', 'ars', 'ace', 'ave', 'asn', 'ast', 'aid', 'anwitz', 'as', 'aid', 'Alvarez', 'aven', 'anticized', 'adness', 'as', 'a', 'and', 'as', 'and', 'ason', 'an', 'alf', 'ance', 'ar', 'and', 'arations', 'ar', 'an', 'asted', 'and', 'at', 'ance', 'and', 'ated', 'ants', 'all', 'aded', 'at', 'alled', 'ation', 'and', 'amed', 'aching', 'as', 'a', 'ape', 'ation', 'and', 'advances', 'at', 'anged', 'ase', 'are', 'as', 'ablishment', 'a', 'and', 'art', 'anetary', 'ace', 'and', 'a', 'acid', 'anity', 'acefully', 'and', 'ation', 'as', 'advance', 'actly', 'any', 'arth', 'any', 'alories', 'ached', 'arth', 'and', 'at', 'any', 'arbon', 'ants', 'ach', 'ar', 'and', 'any', 'animal', 'ants', 'arth', 'animal', 'anwitz', 'ally', 'And', 'all', 'an', 'actly', 'ant', 'all', 'animal', 'at', 'ay', 'aid', 'angrily', 'Alvarez', 'again', 'anwitz', 'aid', 'aced', 'acoderms', 'ad', 'aced', 'aced', 'amphibians', 'and', 'aced', 'ammals', 'at', 'ast', 'as', 'ached', 'ak', 'arth', 'ars', 'ation', 'an', 'anded', 'anwitz', 'ast', 'all', 'ace', 'and', 'ants', 'and', 'animals', 'at', 'ave', 'And', 'all', 'abited', 'an', 'as', 'a', 'ankton', 'ankton', 'arvest', 'and', 'as', 'anic', 'atter', 'ankton', 'aid', 'Alvarez', 'ar', 'are', 'ated', 'aths', 'are', 'aceful', 'ants', 'are', 'ally', 'adjusted', 'and', 'arth', 'are', 'al', 'ain', 'argest', 'able', 'antity', 'able', 'atter', 'And', 'all', 'at', 'ain', 'at', 'aved', 'an', 'audible', 'asperation', 'Alvarez', 'alm', 'aid', 'ation', 'aps', 'animals', 'arth', 'as', 'as', 'ary', 'and', 'ake', 'ances', 'as', 'asteful', 'arth', 'as', 'ad', 'and', 'ad', 'after', 'ankind', 'ame', 'ad', 'arn', 'ay', 'as', 'arning', 'ad', 'ake', 'ances', 'attempt', 'ad', 'ankind', 'as', 'ave', 'anet', 'and', 'Alvarez', 'aused', 'at', 'aid', 'ant', 'anwitz', 'ants', 'ation', 'at', 'as', 'ached', 'and', 'ant', 'aving', 'ached', 'animals', 'are', 'ay', 'anwitz', 'ad', 'ake', 'all', 'ave', 'at', 'an', 'aid', 'an', 'another', 'an', 'ain', 'at', 'asure', 'an', 'aluate', 'an', 'ain', 'already', 'ave', 'aid', 'Alvarez', 'and', 'at', 'and', 'are', 'All', 'arth', 'ared', 'ate', 'ar', 'AD', 'ar', 'at', 'anet', 'at', 'ast', 'al', 'achieved', 'all', 'all', 'an', 'a', 'aw', 'a', 'aw', 'anwitz', 'arth', 'as', 'aiting', 'ars', 'ait', 'annot', 'and', 'arily', 'a', 'aid', 'all', 'ay', 'at', 'anwitz', 'acted', 'and', 'at', 'act', 'as', 'ached', 'And', 'anwitz', 'aid', 'ating', 'And', 'ay', 'at', 'Alvarez', 'and', 'aded', 'aid', 'Alvarez', 'audible', 'annoyance', 'anwitz', 'an', 'against', 'atever', 'and', 'at', 'ay', 'are', 'an', 'alist', 'an', 'at', 'ast', 'any', 'anwitz', 'and', 'Alvarez', 'and', 'aved', 'and', 'aid', 'a', 'ained', 'anwitz', 'an', 'ave', 'ay', 'animals', 'And', 'And', 'and', 'ankind', 'and', 'And', 'Alvarez', 'aid', 'And', 'and', 'ast', 'al', 'an', 'acidly', 'an', 'acidly', 'ate', 'alf', 'a', 'arefully', 'ade', 'alked', 'at', 'an', 'achinery', 'anized', 'aries', 'amused', 'and', 'aried', 'achinery', 'aired', 'ankton', 'anetary', 'an', 'asked', 'and', 'and', 'and', 'and', 'and', 'ansferred', 'and', 'at', 'And', 'an', 'astes', 'athered', 'and', 'adiated', 'and', 'and', 'an', 'and', 'ated', 'and', 'and', 'as', 'ack', 'an', 'And', 'all', 'as', 'as', 'ad', 'ades', 'and', 'a', 'anwitz', 'atures', 'a', 'ast', 'a', 'a', 'aze', 'a', 'ade', 'ass', 'all', 'ast', 'arth', 'at', 'ans', 'ans', 'and', 'ared', 'ants', 'and', 'ages', 'and', 'animals', 'appropriate', 'apors', 'and', 'and', 'ast', 'as', 'and', 'ankind', 'and', 'as', 'anwitz', 'arted', 'anwitz', 'also', 'apors', 'and', 'ant', 'And', 'after', 'at', 'as', 'ally', 'all', 'arth', 'all', 'abitants', 'and', 'all', 'an', 'ain', 'as', 'anwitz', 'al', 'a', 'al', 'acidity', 'at', 'ant', 'at', 'ad', 'at', 'ast', 'achieved', 'A', 'as', 'and', 'ad', 'aid', 'ars', 'allayed', 'at', 'ad', 'accepted', 'as', 'ad', 'aken', 'as', 'ATEST', 'ASSET', 'ampbell', 'ame', 'again', 'ars', 'and', 'agazine', 'aid', 'as', 'anding', 'at', 'ad', 'at', 'a', 'and', 'aid', 'arily', 'agree', 'another', 'ad', 'and', 'adn', 'about', 'azy', 'about', 'able', 'ause', 'as', 'ashamed', 'and', 'as', 'at', 'an', 'ared', 'as', 'ackass', 'aking', 'at', 'ad', 'added', 'avor', 'any', 'any', 'ad', 'And', 'ase', 'as', 'at', 'ars', 'ave', 'ar', 'an', 'ars', 'ayed', 'and', 'at', 'ation', 'arth', 'ated', 'ate', 'ase', 'at', 'ation', 'ars', 'ate', 'ase', 'an', 'aintained', 'ars', 'ar', 'A', 'an', 'and', 'al', 'al', 'animal', 'arth', 'at', 'above']\n"
     ]
    }
   ],
   "source": [
    "regexp3 = re.compile('[aA]\\w*')\n",
    "print(regexp3.findall(total))"
   ]
  },
  {
   "cell_type": "markdown",
   "id": "91d5e310",
   "metadata": {},
   "source": [
    "4. Extract all exclamatory sentences."
   ]
  },
  {
   "cell_type": "code",
   "execution_count": 5,
   "id": "00c7c456",
   "metadata": {},
   "outputs": [
    {
     "name": "stdout",
     "output_type": "stream",
     "text": [
      "['Yes!', 'Literally!', 'There was once a time!', 'Centuries ago!', 'Cranwitz!', 'If we succeed!']\n"
     ]
    }
   ],
   "source": [
    "regexp4 = re.compile('[A-Z][\\w\\s]*!')\n",
    "print(regexp4.findall(total))"
   ]
  },
  {
   "cell_type": "markdown",
   "id": "3f9ad30e",
   "metadata": {},
   "source": [
    "5. Build a distribution histogram of the lengths of unique words."
   ]
  },
  {
   "cell_type": "code",
   "execution_count": 6,
   "id": "891c1ae0",
   "metadata": {},
   "outputs": [],
   "source": [
    "regexp5 = re.compile('[a-zA-Z]\\w*')\n",
    "words = regexp5.findall(total)\n",
    "#2942 words at all\n",
    "lower_words = [x.lower() for x in words]\n",
    "uniq_words = list(set(lower_words))\n",
    "#919 unique words\n",
    "len_words = [len(x) for x in uniq_words]"
   ]
  },
  {
   "cell_type": "code",
   "execution_count": 7,
   "id": "a6f1f059",
   "metadata": {},
   "outputs": [
    {
     "data": {
      "image/png": "[encoded data removed]",
      "text/plain": [
       "<Figure size 640x480 with 1 Axes>"
      ]
     },
     "metadata": {},
     "output_type": "display_data"
    }
   ],
   "source": [
    "#I used seaborn first \n",
    "sns_plot = sns.histplot(len_words, discrete=True)\n",
    "fig = sns_plot.get_figure()"
   ]
  },
  {
   "cell_type": "code",
   "execution_count": 8,
   "id": "ed617bdd",
   "metadata": {},
   "outputs": [
    {
     "data": {
      "text/plain": [
       "Text(0, 0.5, 'Frequency')"
      ]
     },
     "execution_count": 8,
     "metadata": {},
     "output_type": "execute_result"
    },
    {
     "data": {
      "image/png": "[encoded data removed]",
      "text/plain": [
       "<Figure size 800x600 with 1 Axes>"
      ]
     },
     "metadata": {},
     "output_type": "display_data"
    }
   ],
   "source": [
    "#but I couldn't find a way to add labels to axes without changing the data\n",
    "#So I also used Matplotlib for sure\n",
    "\n",
    "plt.figure(figsize=(8,6))\n",
    "plt.hist(len_words, bins = 15)\n",
    "plt.xticks(range(1,16))\n",
    "plt.title('Distribution of words\\' length' , size = 14)\n",
    "plt.xlabel('Length')\n",
    "plt.ylabel('Frequency')"
   ]
  },
  {
   "cell_type": "markdown",
   "id": "cf19983b",
   "metadata": {},
   "source": [
    "6. Make a translator function from Russian to \"brick language\""
   ]
  },
  {
   "cell_type": "code",
   "execution_count": 9,
   "id": "b8b07943",
   "metadata": {},
   "outputs": [],
   "source": [
    "def Translator(rus_str):\n",
    "    sonorn = 'АаЕеЁёИиОоУуЭэЫыЮюЯя'\n",
    "    for i in sonorn:\n",
    "        rus_str = re.sub(f'{i}', f'{i}К{i.upper()}', rus_str)\n",
    "    return rus_str"
   ]
  },
  {
   "cell_type": "code",
   "execution_count": 10,
   "id": "66f9a634",
   "metadata": {},
   "outputs": [
    {
     "data": {
      "text/plain": [
       "'~НаКАм поКОраКА оКОтпуКУстиКИть сиКИниКИц, наКАм поКОраКА лоКОвиКИть жуКУраКАвлеКЕй'"
      ]
     },
     "execution_count": 10,
     "metadata": {},
     "output_type": "execute_result"
    }
   ],
   "source": [
    "Translator('~Нам пора отпустить синиц, нам пора ловить журавлей')"
   ]
  }
 ],
 "metadata": {
  "kernelspec": {
   "display_name": "Python 3 (ipykernel)",
   "language": "python",
   "name": "python3"
  },
  "language_info": {
   "codemirror_mode": {
    "name": "ipython",
    "version": 3
   },
   "file_extension": ".py",
   "mimetype": "text/x-python",
   "name": "python",
   "nbconvert_exporter": "python",
   "pygments_lexer": "ipython3",
   "version": "3.9.13"
  }
 },
 "nbformat": 4,
 "nbformat_minor": 5
}
